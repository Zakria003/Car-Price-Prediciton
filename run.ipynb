{
 "cells": [
  {
   "cell_type": "markdown",
   "id": "8e1d19fc-724f-4b22-88eb-97ee66fa611c",
   "metadata": {
    "jp-MarkdownHeadingCollapsed": true
   },
   "source": [
    "# Importing libraries and dataset"
   ]
  },
  {
   "cell_type": "code",
   "execution_count": 28,
   "id": "94db6d7a-1575-4bc9-ad39-67d6e15f1770",
   "metadata": {},
   "outputs": [
    {
     "name": "stdout",
     "output_type": "stream",
     "text": [
      "                                     name   company  year          Price  \\\n",
      "0    Hyundai Santro Xing XO eRLX Euro III   Hyundai  2007         80,000   \n",
      "1                 Mahindra Jeep CL550 MDI  Mahindra  2006       4,25,000   \n",
      "2              Maruti Suzuki Alto 800 Vxi    Maruti  2018  Ask For Price   \n",
      "3  Hyundai Grand i10 Magna 1.2 Kappa VTVT   Hyundai  2014       3,25,000   \n",
      "4        Ford EcoSport Titanium 1.5L TDCi      Ford  2014       5,75,000   \n",
      "\n",
      "   kms_driven fuel_type  \n",
      "0  45,000 kms    Petrol  \n",
      "1      40 kms    Diesel  \n",
      "2  22,000 kms    Petrol  \n",
      "3  28,000 kms    Petrol  \n",
      "4  36,000 kms    Diesel  \n"
     ]
    }
   ],
   "source": [
    "import numpy as np, pandas as pd\n",
    "\n",
    "dataset = pd.read_csv(r\"C:\\ML\\projects\\learning projects\\1 car price prediction\\dataset.csv\")\n",
    "print(dataset.head())"
   ]
  },
  {
   "cell_type": "markdown",
   "id": "f31040de-4324-451c-a320-6afd8067d982",
   "metadata": {},
   "source": [
    "# Exploratory Data Analysis (EDA)"
   ]
  },
  {
   "cell_type": "markdown",
   "id": "0c0aeebd-2409-4bb3-b93e-a9b3bf07005b",
   "metadata": {},
   "source": [
    "### DATA TYPES"
   ]
  },
  {
   "cell_type": "code",
   "execution_count": 29,
   "id": "65fa92e5-244e-4e48-a2cf-b6e63cee0350",
   "metadata": {},
   "outputs": [
    {
     "name": "stdout",
     "output_type": "stream",
     "text": [
      "<class 'pandas.core.frame.DataFrame'>\n",
      "RangeIndex: 892 entries, 0 to 891\n",
      "Data columns (total 6 columns):\n",
      " #   Column      Non-Null Count  Dtype \n",
      "---  ------      --------------  ----- \n",
      " 0   name        892 non-null    object\n",
      " 1   company     892 non-null    object\n",
      " 2   year        892 non-null    object\n",
      " 3   Price       892 non-null    object\n",
      " 4   kms_driven  840 non-null    object\n",
      " 5   fuel_type   837 non-null    object\n",
      "dtypes: object(6)\n",
      "memory usage: 41.9+ KB\n"
     ]
    }
   ],
   "source": [
    "dataset.info()"
   ]
  },
  {
   "cell_type": "markdown",
   "id": "ee56537f-2028-4473-9b45-9f32b1633eeb",
   "metadata": {},
   "source": [
    "NOTE: year, price, kms driven should be of float type"
   ]
  },
  {
   "cell_type": "markdown",
   "id": "942a8fc5-7bfc-49b6-ad58-e171c7b1746e",
   "metadata": {},
   "source": [
    "#### NULL VALUES"
   ]
  },
  {
   "cell_type": "code",
   "execution_count": 30,
   "id": "02059633-c226-4ca7-82b4-57980d4616a9",
   "metadata": {},
   "outputs": [
    {
     "name": "stdout",
     "output_type": "stream",
     "text": [
      "No null values in attribute 'name'\n",
      "No null values in attribute 'year'\n",
      "No null values in attribute 'Price'\n",
      "Null values in 'kms_driven':'52'\n",
      "Null values in 'fuel_type':'55'\n"
     ]
    }
   ],
   "source": [
    "check_null_values = lambda df, column_name: print(f\"Null values in '{column_name}':'{df[column_name].isnull().sum()}'\") if df[column_name].isnull().any() else print(f\"No null values in attribute '{column_name}'\")\n",
    "\n",
    "check_null_values(dataset, 'name')\n",
    "check_null_values(dataset, 'year')\n",
    "check_null_values(dataset, 'Price')\n",
    "check_null_values(dataset, 'kms_driven')\n",
    "check_null_values(dataset, 'fuel_type')\n"
   ]
  },
  {
   "cell_type": "markdown",
   "id": "6f619234-34c8-4379-bc18-cd21f6db9191",
   "metadata": {},
   "source": [
    "NOTE: You got sum NULL VALUES IN 'kms_driven' & 'fuel_type'.\n",
    "We got 2 options now, either to drop the null values or fill them. we fill the null values when the feature having those value have good relation with our dependent variable (y)."
   ]
  },
  {
   "cell_type": "markdown",
   "id": "2637dde9-77c6-42a3-bdfe-7c9e7376e9ee",
   "metadata": {},
   "source": [
    "#### Unique values"
   ]
  },
  {
   "cell_type": "code",
   "execution_count": 31,
   "id": "14f2f8c4-dc3a-4e3b-b6b2-4b4717328504",
   "metadata": {},
   "outputs": [
    {
     "name": "stdout",
     "output_type": "stream",
     "text": [
      "['2007' '2006' '2018' '2014' '2015' '2012' '2013' '2016' '2010' '2017'\n",
      " '2008' '2011' '2019' '2009' '2005' '2000' '...' '150k' 'TOUR' '2003'\n",
      " 'r 15' '2004' 'Zest' '/-Rs' 'sale' '1995' 'ara)' '2002' 'SELL' '2001'\n",
      " 'tion' 'odel' '2 bs' 'arry' 'Eon' 'o...' 'ture' 'emi' 'car' 'able' 'no.'\n",
      " 'd...' 'SALE' 'digo' 'sell' 'd Ex' 'n...' 'e...' 'D...' ', Ac' 'go .'\n",
      " 'k...' 'o c4' 'zire' 'cent' 'Sumo' 'cab' 't xe' 'EV2' 'r...' 'zest']\n"
     ]
    }
   ],
   "source": [
    "print(dataset['year'].unique())"
   ]
  },
  {
   "cell_type": "markdown",
   "id": "85e0c0eb-d7b1-4b98-99b9-7845a04788ca",
   "metadata": {},
   "source": [
    "NOTE: HAVE INVALID YEAR VALUES"
   ]
  },
  {
   "cell_type": "code",
   "execution_count": 32,
   "id": "d47dd36c-cbb6-4a0d-b190-ec2fc5da37fd",
   "metadata": {},
   "outputs": [
    {
     "name": "stdout",
     "output_type": "stream",
     "text": [
      "['80,000' '4,25,000' 'Ask For Price' '3,25,000' '5,75,000' '1,75,000'\n",
      " '1,90,000' '8,30,000' '2,50,000' '1,82,000' '3,15,000' '4,15,000'\n",
      " '3,20,000' '10,00,000' '5,00,000' '3,50,000' '1,60,000' '3,10,000'\n",
      " '75,000' '1,00,000' '2,90,000' '95,000' '1,80,000' '3,85,000' '1,05,000'\n",
      " '6,50,000' '6,89,999' '4,48,000' '5,49,000' '5,01,000' '4,89,999'\n",
      " '2,80,000' '3,49,999' '2,84,999' '3,45,000' '4,99,999' '2,35,000'\n",
      " '2,49,999' '14,75,000' '3,95,000' '2,20,000' '1,70,000' '85,000'\n",
      " '2,00,000' '5,70,000' '1,10,000' '4,48,999' '18,91,111' '1,59,500'\n",
      " '3,44,999' '4,49,999' '8,65,000' '6,99,000' '3,75,000' '2,24,999'\n",
      " '12,00,000' '1,95,000' '3,51,000' '2,40,000' '90,000' '1,55,000'\n",
      " '6,00,000' '1,89,500' '2,10,000' '3,90,000' '1,35,000' '16,00,000'\n",
      " '7,01,000' '2,65,000' '5,25,000' '3,72,000' '6,35,000' '5,50,000'\n",
      " '4,85,000' '3,29,500' '2,51,111' '5,69,999' '69,999' '2,99,999'\n",
      " '3,99,999' '4,50,000' '2,70,000' '1,58,400' '1,79,000' '1,25,000'\n",
      " '2,99,000' '1,50,000' '2,75,000' '2,85,000' '3,40,000' '70,000'\n",
      " '2,89,999' '8,49,999' '7,49,999' '2,74,999' '9,84,999' '5,99,999'\n",
      " '2,44,999' '4,74,999' '2,45,000' '1,69,500' '3,70,000' '1,68,000'\n",
      " '1,45,000' '98,500' '2,09,000' '1,85,000' '9,00,000' '6,99,999'\n",
      " '1,99,999' '5,44,999' '1,99,000' '5,40,000' '49,000' '7,00,000' '55,000'\n",
      " '8,95,000' '3,55,000' '5,65,000' '3,65,000' '40,000' '4,00,000'\n",
      " '3,30,000' '5,80,000' '3,79,000' '2,19,000' '5,19,000' '7,30,000'\n",
      " '20,00,000' '21,00,000' '14,00,000' '3,11,000' '8,55,000' '5,35,000'\n",
      " '1,78,000' '3,00,000' '2,55,000' '5,49,999' '3,80,000' '57,000'\n",
      " '4,10,000' '2,25,000' '1,20,000' '59,000' '5,99,000' '6,75,000' '72,500'\n",
      " '6,10,000' '2,30,000' '5,20,000' '5,24,999' '4,24,999' '6,44,999'\n",
      " '5,84,999' '7,99,999' '4,44,999' '6,49,999' '9,44,999' '5,74,999'\n",
      " '3,74,999' '1,30,000' '4,01,000' '13,50,000' '1,74,999' '2,39,999'\n",
      " '99,999' '3,24,999' '10,74,999' '11,30,000' '1,49,000' '7,70,000'\n",
      " '30,000' '3,35,000' '3,99,000' '65,000' '1,69,999' '1,65,000' '5,60,000'\n",
      " '9,50,000' '7,15,000' '45,000' '9,40,000' '1,55,555' '15,00,000'\n",
      " '4,95,000' '8,00,000' '12,99,000' '5,30,000' '14,99,000' '32,000'\n",
      " '4,05,000' '7,60,000' '7,50,000' '4,19,000' '1,40,000' '15,40,000'\n",
      " '1,23,000' '4,98,000' '4,80,000' '4,88,000' '15,25,000' '5,48,900'\n",
      " '7,25,000' '99,000' '52,000' '28,00,000' '4,99,000' '3,81,000' '2,78,000'\n",
      " '6,90,000' '2,60,000' '90,001' '1,15,000' '15,99,000' '1,59,000' '51,999'\n",
      " '2,15,000' '35,000' '11,50,000' '2,69,000' '60,000' '4,30,000'\n",
      " '85,00,003' '4,01,919' '4,90,000' '4,24,000' '2,05,000' '5,49,900'\n",
      " '3,71,500' '4,35,000' '1,89,700' '3,89,700' '3,60,000' '2,95,000'\n",
      " '1,14,990' '10,65,000' '4,70,000' '48,000' '1,88,000' '4,65,000'\n",
      " '1,79,999' '21,90,000' '23,90,000' '10,75,000' '4,75,000' '10,25,000'\n",
      " '6,15,000' '19,00,000' '14,90,000' '15,10,000' '18,50,000' '7,90,000'\n",
      " '17,25,000' '12,25,000' '68,000' '9,70,000' '31,00,000' '8,99,000'\n",
      " '88,000' '53,000' '5,68,500' '71,000' '5,90,000' '7,95,000' '42,000'\n",
      " '1,89,000' '1,62,000' '35,999' '29,00,000' '39,999' '50,500' '5,10,000'\n",
      " '8,60,000' '5,00,001']\n"
     ]
    }
   ],
   "source": [
    "print(dataset['Price'].unique()) "
   ]
  },
  {
   "cell_type": "code",
   "execution_count": 33,
   "id": "3a13390f-7f99-46ca-9d9b-cfb486519044",
   "metadata": {},
   "outputs": [
    {
     "name": "stdout",
     "output_type": "stream",
     "text": [
      "['45,000 kms' '40 kms' '22,000 kms' '28,000 kms' '36,000 kms' '59,000 kms'\n",
      " '41,000 kms' '25,000 kms' '24,530 kms' '60,000 kms' '30,000 kms'\n",
      " '32,000 kms' '48,660 kms' '4,000 kms' '16,934 kms' '43,000 kms'\n",
      " '35,550 kms' '39,522 kms' '39,000 kms' '55,000 kms' '72,000 kms'\n",
      " '15,975 kms' '70,000 kms' '23,452 kms' '35,522 kms' '48,508 kms'\n",
      " '15,487 kms' '82,000 kms' '20,000 kms' '68,000 kms' '38,000 kms'\n",
      " '27,000 kms' '33,000 kms' '46,000 kms' '16,000 kms' '47,000 kms'\n",
      " '35,000 kms' '30,874 kms' '15,000 kms' '29,685 kms' '1,30,000 kms'\n",
      " '19,000 kms' nan '54,000 kms' '13,000 kms' '38,200 kms' '50,000 kms'\n",
      " '13,500 kms' '3,600 kms' '45,863 kms' '60,500 kms' '12,500 kms'\n",
      " '18,000 kms' '13,349 kms' '29,000 kms' '44,000 kms' '42,000 kms'\n",
      " '14,000 kms' '49,000 kms' '36,200 kms' '51,000 kms' '1,04,000 kms'\n",
      " '33,333 kms' '33,600 kms' '5,600 kms' '7,500 kms' '26,000 kms'\n",
      " '24,330 kms' '65,480 kms' '28,028 kms' '2,00,000 kms' '99,000 kms'\n",
      " '2,800 kms' '21,000 kms' '11,000 kms' '66,000 kms' '3,000 kms'\n",
      " '7,000 kms' '38,500 kms' '37,200 kms' '43,200 kms' '24,800 kms'\n",
      " '45,872 kms' '40,000 kms' '11,400 kms' '97,200 kms' '52,000 kms'\n",
      " '31,000 kms' '1,75,430 kms' '37,000 kms' '65,000 kms' '3,350 kms'\n",
      " '75,000 kms' '62,000 kms' '73,000 kms' '2,200 kms' '54,870 kms'\n",
      " '34,580 kms' '97,000 kms' '60 kms' '80,200 kms' '3,200 kms' '0,000 kms'\n",
      " '5,000 kms' '588 kms' '71,200 kms' '1,75,400 kms' '9,300 kms'\n",
      " '56,758 kms' '10,000 kms' '56,450 kms' '56,000 kms' '32,700 kms'\n",
      " '9,000 kms' '73 kms' '1,60,000 kms' '84,000 kms' '58,559 kms'\n",
      " '57,000 kms' '1,70,000 kms' '80,000 kms' '6,821 kms' '23,000 kms'\n",
      " '34,000 kms' '1,800 kms' '4,00,000 kms' '48,000 kms' '90,000 kms'\n",
      " '12,000 kms' '69,900 kms' '1,66,000 kms' '122 kms' '0 kms' '24,000 kms'\n",
      " '36,469 kms' '7,800 kms' '24,695 kms' '15,141 kms' '59,910 kms'\n",
      " '1,00,000 kms' '4,500 kms' '1,29,000 kms' '300 kms' '1,31,000 kms'\n",
      " '1,11,111 kms' '59,466 kms' '25,500 kms' '44,005 kms' '2,110 kms'\n",
      " '43,222 kms' '1,00,200 kms' '65 kms' '1,40,000 kms' '1,03,553 kms'\n",
      " '58,000 kms' '1,20,000 kms' '49,800 kms' '100 kms' '81,876 kms'\n",
      " '6,020 kms' '55,700 kms' '18,500 kms' '1,80,000 kms' '53,000 kms'\n",
      " '35,500 kms' '22,134 kms' '1,000 kms' '8,500 kms' '87,000 kms'\n",
      " '6,000 kms' '15,574 kms' '8,000 kms' '55,800 kms' '56,400 kms'\n",
      " '72,160 kms' '11,500 kms' '1,33,000 kms' '2,000 kms' '88,000 kms'\n",
      " '65,422 kms' '1,17,000 kms' '1,50,000 kms' '10,750 kms' '6,800 kms'\n",
      " '5 kms' '9,800 kms' '57,923 kms' '30,201 kms' '6,200 kms' '37,518 kms'\n",
      " '24,652 kms' '383 kms' '95,000 kms' '3,528 kms' '52,500 kms' '47,900 kms'\n",
      " '52,800 kms' '1,95,000 kms' '48,008 kms' '48,247 kms' '9,400 kms'\n",
      " '64,000 kms' '2,137 kms' '10,544 kms' '49,500 kms' '1,47,000 kms'\n",
      " '90,001 kms' '48,006 kms' '74,000 kms' '85,000 kms' '29,500 kms'\n",
      " '39,700 kms' '67,000 kms' '19,336 kms' '60,105 kms' '45,933 kms'\n",
      " '1,02,563 kms' '28,600 kms' '41,800 kms' '1,16,000 kms' '42,590 kms'\n",
      " '7,400 kms' '54,500 kms' '76,000 kms' '00 kms' '11,523 kms' '38,600 kms'\n",
      " '95,500 kms' '37,458 kms' '85,960 kms' '12,516 kms' '30,600 kms'\n",
      " '2,550 kms' '62,500 kms' '69,000 kms' '28,400 kms' '68,485 kms'\n",
      " '3,500 kms' '85,455 kms' '63,000 kms' '1,600 kms' '77,000 kms'\n",
      " '26,500 kms' '2,875 kms' '13,900 kms' '1,500 kms' '2,450 kms' '1,625 kms'\n",
      " '33,400 kms' '60,123 kms' '38,900 kms' '1,37,495 kms' '91,200 kms'\n",
      " '1,46,000 kms' '1,00,800 kms' '2,100 kms' '2,500 kms' '1,32,000 kms'\n",
      " 'Petrol']\n"
     ]
    }
   ],
   "source": [
    "print(dataset['kms_driven'].unique())"
   ]
  },
  {
   "cell_type": "markdown",
   "id": "f41f8847-7d17-4e55-88e8-31ac5b4e2892",
   "metadata": {},
   "source": [
    "NOTE: Have invalid value 'Ask For Price' and need to remove commas "
   ]
  },
  {
   "cell_type": "markdown",
   "id": "48774782-8362-4a85-b8b8-e70a9bdb0a53",
   "metadata": {},
   "source": [
    "Note: have invalid value 'Petrol' and 'nan' values"
   ]
  },
  {
   "cell_type": "code",
   "execution_count": 34,
   "id": "e0df220f-c45e-4eaf-b9b7-99acb025ccfc",
   "metadata": {},
   "outputs": [
    {
     "name": "stdout",
     "output_type": "stream",
     "text": [
      "['Petrol' 'Diesel' nan 'LPG']\n"
     ]
    }
   ],
   "source": [
    "print(dataset['fuel_type'].unique())"
   ]
  },
  {
   "cell_type": "markdown",
   "id": "f27e41af-aded-4878-bb85-3b8c6a03b574",
   "metadata": {},
   "source": [
    "Note: have invalid value 'nan'"
   ]
  },
  {
   "cell_type": "markdown",
   "id": "4aa69e18-57c1-4e6f-b0fb-03647f74d7a7",
   "metadata": {},
   "source": [
    "### SUMMARY OF EXPLORATORY DATA ANALYSIS (EDA)"
   ]
  },
  {
   "cell_type": "raw",
   "id": "4dd491bf-44ee-4134-ac27-4e3f77a56f7e",
   "metadata": {},
   "source": [
    "DATA TYPES\n",
    "-> year, price, kms driven should be of float type\n",
    "NULL VALUES\n",
    "-> You got sum NULL VALUES IN 'kms_driven' & 'fuel_type'\n",
    "UNIQUE VALUES\n",
    "-> invalid year values\n",
    "-> invalid price values,'Ask For Price' and remove commas\n",
    "-> invalid kms_driven value 'Petrol' and 'nan' values and remove commas and remove kms_driven \n",
    "-> invalid fuel_type value 'nan'"
   ]
  },
  {
   "cell_type": "markdown",
   "id": "a9845b85-d864-4f03-9a7a-3ebf0d4b6f3f",
   "metadata": {},
   "source": [
    "## DATA PREPROCESSING"
   ]
  },
  {
   "cell_type": "code",
   "execution_count": 35,
   "id": "38413aec-b15c-40f1-bacc-c020b20b04e0",
   "metadata": {},
   "outputs": [],
   "source": [
    "dataset=dataset[dataset['year'].str.isnumeric()]\n",
    "dataset['year']=dataset['year'].astype(int)\n",
    "\n",
    "dataset['name']=dataset['name'].str.split(' ').str.slice(0,3).str.join(' ')\n",
    "\n",
    "dataset['Price']=dataset['Price'].str.replace(',','')\n",
    "dataset=dataset[dataset['Price'].str.isnumeric()]\n",
    "dataset['Price']=dataset['Price'].astype(int)\n",
    "\n",
    "\n",
    "dataset['kms_driven']=dataset['kms_driven'].str.split(' ').str.get(0).str.replace(',','')\n",
    "dataset=dataset[dataset['kms_driven'].str.isnumeric()]\n",
    "dataset['kms_driven']=dataset['kms_driven'].astype(int)\n",
    "\n",
    "dataset= dataset[~dataset['fuel_type'].isna()]\n",
    "\n",
    "dataset['name']=dataset['name'].str.split(' ').str.slice(0,3).str.join(' ')\n"
   ]
  },
  {
   "cell_type": "code",
   "execution_count": 36,
   "id": "4e248bc4-eeb1-4b1c-9d9d-fca815cd8ec3",
   "metadata": {},
   "outputs": [],
   "source": [
    "#since we have droppend many values we have to re-arrange the index\n",
    "dataset=dataset.reset_index(drop=True) #dont keep the old index"
   ]
  },
  {
   "cell_type": "markdown",
   "id": "ab1ffb82-4537-4142-9560-2003e6bb7f7c",
   "metadata": {},
   "source": [
    "## checking if all points of EDA were solved"
   ]
  },
  {
   "cell_type": "markdown",
   "id": "20cb2e8e-b895-429a-9c72-0faf2a59048d",
   "metadata": {},
   "source": [
    "##### NULL VALUES -  STATUS: PASS"
   ]
  },
  {
   "cell_type": "code",
   "execution_count": 37,
   "id": "e68ffcfa-7b2c-464b-a0ad-2612323c5428",
   "metadata": {},
   "outputs": [
    {
     "name": "stdout",
     "output_type": "stream",
     "text": [
      "No null values in attribute 'name'\n",
      "No null values in attribute 'year'\n",
      "No null values in attribute 'Price'\n",
      "No null values in attribute 'kms_driven'\n",
      "No null values in attribute 'fuel_type'\n"
     ]
    }
   ],
   "source": [
    "check_null_values(dataset, 'name')\n",
    "check_null_values(dataset, 'year')\n",
    "check_null_values(dataset, 'Price')\n",
    "check_null_values(dataset, 'kms_driven')\n",
    "check_null_values(dataset, 'fuel_type')"
   ]
  },
  {
   "cell_type": "markdown",
   "id": "432371f2-a62b-427b-bad7-c108607ba4a3",
   "metadata": {},
   "source": [
    "##### UNIQUE VALUES -  STATUS: PASS"
   ]
  },
  {
   "cell_type": "code",
   "execution_count": 38,
   "id": "630a1c04-b01a-4c88-816a-c86fca3f0b22",
   "metadata": {},
   "outputs": [
    {
     "name": "stdout",
     "output_type": "stream",
     "text": [
      "<class 'pandas.core.frame.DataFrame'>\n",
      "RangeIndex: 816 entries, 0 to 815\n",
      "Data columns (total 6 columns):\n",
      " #   Column      Non-Null Count  Dtype \n",
      "---  ------      --------------  ----- \n",
      " 0   name        816 non-null    object\n",
      " 1   company     816 non-null    object\n",
      " 2   year        816 non-null    int32 \n",
      " 3   Price       816 non-null    int32 \n",
      " 4   kms_driven  816 non-null    int32 \n",
      " 5   fuel_type   816 non-null    object\n",
      "dtypes: int32(3), object(3)\n",
      "memory usage: 28.8+ KB\n"
     ]
    }
   ],
   "source": [
    "dataset.info()"
   ]
  },
  {
   "cell_type": "code",
   "execution_count": 39,
   "id": "b7c0882d-db34-4441-9679-c04b045f27bf",
   "metadata": {},
   "outputs": [
    {
     "data": {
      "text/plain": [
       "array([2007, 2006, 2014, 2012, 2013, 2016, 2015, 2010, 2017, 2008, 2018,\n",
       "       2011, 2019, 2009, 2005, 2000, 2003, 2004, 1995, 2002, 2001])"
      ]
     },
     "execution_count": 39,
     "metadata": {},
     "output_type": "execute_result"
    }
   ],
   "source": [
    "dataset['year'].unique()"
   ]
  },
  {
   "cell_type": "code",
   "execution_count": 40,
   "id": "914dac4c-6226-4a4e-9bcb-6eeb53983d36",
   "metadata": {},
   "outputs": [
    {
     "data": {
      "text/plain": [
       "array([  80000,  425000,  325000,  575000,  175000,  190000,  830000,\n",
       "        250000,  182000,  315000,  415000,  320000, 1000000,  500000,\n",
       "        350000,  160000,  310000,   75000,  100000,  290000,   95000,\n",
       "        180000,  385000,  105000,  650000,  689999,  448000,  549000,\n",
       "        501000,  489999,  280000,  349999,  284999,  345000,  499999,\n",
       "        235000,  249999, 1475000,  395000,  220000,  170000,   85000,\n",
       "        200000,  570000,  110000,  448999, 1891111,  159500,  344999,\n",
       "        449999,  865000,  699000,  375000,  224999, 1200000,  195000,\n",
       "        351000,  240000,   90000,  155000,  600000,  189500,  210000,\n",
       "        390000,  135000, 1600000,  701000,  265000,  525000,  372000,\n",
       "        635000,  550000,  485000,  329500,  251111,  569999,   69999,\n",
       "        299999,  399999,  450000,  270000,  158400,  179000,  125000,\n",
       "        299000,  150000,  285000,  340000,   70000,  289999,  849999,\n",
       "        749999,  274999,  984999,  599999,  244999,  474999,  245000,\n",
       "        169500,  275000,  370000,  168000,  145000,   98500,  209000,\n",
       "        185000,  900000,  699999,  199999,  544999,  199000,  540000,\n",
       "         49000,  700000,   55000,  895000,  355000,  565000,  365000,\n",
       "         40000,  400000,  330000,  580000,  379000,  219000,  519000,\n",
       "        730000, 2000000, 2100000, 1400000,  311000,  855000,  535000,\n",
       "        178000,  300000,  255000,  549999,  380000,   57000,  410000,\n",
       "        225000,  120000,   59000,  599000,  675000,   72500,  610000,\n",
       "        230000,  520000,  524999,  424999,  644999,  584999,  799999,\n",
       "        444999,  649999,  944999,  574999,  374999,  130000,  401000,\n",
       "       1350000,  174999,  239999,   99999,  324999, 1074999, 1130000,\n",
       "        149000,  770000,   30000,  335000,  399000,   65000,  169999,\n",
       "        165000,  560000,  950000,  715000,   45000,  940000,  155555,\n",
       "       1500000,  495000,  800000, 1299000,  530000, 1499000,   32000,\n",
       "        405000,  760000,  750000,  419000,  140000, 1540000,  123000,\n",
       "        498000,  480000,  488000, 1525000,  548900,  725000,   99000,\n",
       "         52000, 2800000,  499000,  381000,  278000,  690000,  260000,\n",
       "         90001,  115000, 1599000,  159000,   51999,  215000,   35000,\n",
       "       1150000,  269000,   60000,  430000, 8500003,  401919,  490000,\n",
       "        424000,  205000,  549900,  435000,  189700,  389700,  360000,\n",
       "        295000,  114990, 1065000,  470000,   48000,  188000,  465000,\n",
       "        179999, 2190000, 2390000, 1075000,  475000, 1025000,  615000,\n",
       "       1900000, 1490000, 1510000, 1850000,  790000, 1725000, 1225000,\n",
       "         68000,  970000, 3100000,  899000,   88000,   53000,  568500,\n",
       "         71000,  590000,  795000,   42000,  189000,  162000,   35999,\n",
       "       2900000,   39999,   50500,  510000,  860000,  500001])"
      ]
     },
     "execution_count": 40,
     "metadata": {},
     "output_type": "execute_result"
    }
   ],
   "source": [
    "dataset['Price'].unique()"
   ]
  },
  {
   "cell_type": "code",
   "execution_count": 41,
   "id": "5b5e4661-e15c-40c5-8781-bc0e9ef96df1",
   "metadata": {},
   "outputs": [
    {
     "data": {
      "text/plain": [
       "array([ 45000,     40,  28000,  36000,  41000,  25000,  24530,  60000,\n",
       "        30000,  32000,  48660,   4000,  16934,  43000,  35550,  39522,\n",
       "        39000,  55000,  72000,  15975,  70000,  23452,  35522,  48508,\n",
       "        15487,  82000,  20000,  68000,  38000,  27000,  33000,  46000,\n",
       "        16000,  47000,  35000,  30874,  15000,  29685, 130000,  19000,\n",
       "        54000,  13000,  38200,  22000,  50000,  13500,   3600,  45863,\n",
       "        60500,  12500,  18000,  13349,  29000,  44000,  42000,  14000,\n",
       "        49000,  36200,  51000, 104000,  33333,  33600,   5600,   7500,\n",
       "        24330,  65480, 200000,  59000,  99000,   2800,  21000,  11000,\n",
       "        66000,   3000,   7000,  38500,  37200,  43200,  24800,  45872,\n",
       "        40000,  11400,  97200,  52000,  31000, 175430,  37000,  65000,\n",
       "         3350,  75000,  62000,  73000,   2200,  54870,  34580,  97000,\n",
       "           60,  80200,   3200,      0,   5000,    588,  71200, 175400,\n",
       "         9300,  56758,  10000,  56450,  56000,  32700,   9000,     73,\n",
       "       160000,  58559,  57000, 170000,  80000,   6821,  23000,  34000,\n",
       "         1800, 400000,  48000,  90000,  12000,  69900, 166000,    122,\n",
       "        36469,   7800,  24695,  15141,  59910, 100000,   4500, 129000,\n",
       "          300, 131000, 111111,  59466,  25500,  44005,   2110,  43222,\n",
       "       100200,     65, 140000, 103553,  58000, 120000,  49800,    100,\n",
       "        81876,   6020,  55700,  18500,  53000,  35500,  22134,   1000,\n",
       "         8500,  87000,   6000,   8000,  55800,  56400,  72160,  11500,\n",
       "       133000,   2000,  88000,  65422, 117000, 150000,  10750,   6800,\n",
       "         9800,  57923,  30201,   6200,  37518,  24652,    383,  95000,\n",
       "         3528,  52500,  47900,  52800, 195000,  48008,  48247,   9400,\n",
       "        64000,   2137,  10544, 147000,  90001,  48006,  74000,  85000,\n",
       "        29500,  39700,  67000,  19336,  60105,  45933, 102563,  28600,\n",
       "        41800, 116000,  42590,   7400,  54500,  76000,  11523,  38600,\n",
       "        95500,  37458,  85960,  12516,  30600,   2550,  62500,  69000,\n",
       "        28400,  68485,   3500,  85455,  63000,   1600,  77000,  26500,\n",
       "         2875,  13900,   1500,   2450,   1625,  33400,  60123, 137495,\n",
       "        91200, 146000, 100800,   2100,   2500, 132000])"
      ]
     },
     "execution_count": 41,
     "metadata": {},
     "output_type": "execute_result"
    }
   ],
   "source": [
    "dataset['kms_driven'].unique()"
   ]
  },
  {
   "cell_type": "code",
   "execution_count": 42,
   "id": "ef6df252-79f7-4f36-88d5-162681fca3d4",
   "metadata": {},
   "outputs": [
    {
     "data": {
      "text/plain": [
       "array(['Petrol', 'Diesel', 'LPG'], dtype=object)"
      ]
     },
     "execution_count": 42,
     "metadata": {},
     "output_type": "execute_result"
    }
   ],
   "source": [
    "dataset['fuel_type'].unique()"
   ]
  },
  {
   "cell_type": "markdown",
   "id": "b99c350b-be1e-4544-9015-632c028aef87",
   "metadata": {},
   "source": [
    "## ALL POINTS OF EDA WERE COVERED SO SAVIG THE CLEANED DATASET"
   ]
  },
  {
   "cell_type": "code",
   "execution_count": 43,
   "id": "062af226-7b99-416e-850c-f9ad7262ab34",
   "metadata": {},
   "outputs": [],
   "source": [
    "dataset.to_csv(r'C:\\ML\\projects\\learning projects\\1 car price prediction\\cleaned_dataset.csv')"
   ]
  },
  {
   "cell_type": "markdown",
   "id": "82c47257-4ace-4d31-a3e8-0f5aca2c2d09",
   "metadata": {},
   "source": [
    "# Model fitting"
   ]
  },
  {
   "cell_type": "markdown",
   "id": "ffa267c7-7157-4370-bfb6-5f54286b1674",
   "metadata": {},
   "source": [
    "## DATA splitting"
   ]
  },
  {
   "cell_type": "code",
   "execution_count": 44,
   "id": "5aa15fd6-239c-4843-9745-2b2a06dc1ff7",
   "metadata": {},
   "outputs": [],
   "source": [
    "from sklearn.model_selection import train_test_split"
   ]
  },
  {
   "cell_type": "code",
   "execution_count": 45,
   "id": "7305cc8b-8a24-419b-85d6-96b54c7eaf9b",
   "metadata": {},
   "outputs": [],
   "source": [
    "x=dataset.drop(columns='Price')\n",
    "y=dataset['Price']"
   ]
  },
  {
   "cell_type": "code",
   "execution_count": 46,
   "id": "ab0eb3c5-7cb6-436e-ba97-da974a5d81b9",
   "metadata": {},
   "outputs": [],
   "source": [
    "xtrain, xtest, ytrain, ytest= train_test_split(x,y,test_size=0.2)"
   ]
  },
  {
   "cell_type": "markdown",
   "id": "dffbbe9d-b7dc-4f5a-87b6-a3a45582fb7d",
   "metadata": {},
   "source": [
    "## Categorical data handling"
   ]
  },
  {
   "cell_type": "code",
   "execution_count": 47,
   "id": "b21586b2-6773-44c0-a951-2766715fcb88",
   "metadata": {},
   "outputs": [],
   "source": [
    "from sklearn.preprocessing import OneHotEncoder\n",
    "from sklearn.compose import make_column_transformer\n",
    "\n",
    "onehot=OneHotEncoder()\n",
    "onehot.fit(x[['name','company','fuel_type']])\n",
    "\n",
    "column_tran=make_column_transformer(\n",
    "    (OneHotEncoder(categories=onehot.categories_),['name','company','fuel_type']),\n",
    "    remainder='passthrough'\n",
    "    )\n"
   ]
  },
  {
   "cell_type": "markdown",
   "id": "d66e1989-a06d-4f07-81ff-c88ae61945e7",
   "metadata": {},
   "source": [
    "## PIPELINE OF MODEL"
   ]
  },
  {
   "cell_type": "code",
   "execution_count": 48,
   "id": "78397483-6739-4d6a-83cc-437e97fd92f4",
   "metadata": {},
   "outputs": [],
   "source": [
    "from sklearn.pipeline import make_pipeline\n",
    "from sklearn.linear_model import LinearRegression\n",
    "\n",
    "model= LinearRegression()\n",
    "pipeline=make_pipeline(column_tran,model)\n",
    "pipeline.fit(xtrain,ytrain)\n",
    "ypred=pipeline.predict(xtest)"
   ]
  },
  {
   "cell_type": "code",
   "execution_count": 49,
   "id": "46bbbb60-ce97-46bf-859d-0671bd20e549",
   "metadata": {},
   "outputs": [
    {
     "data": {
      "text/plain": [
       "0.21422833648088402"
      ]
     },
     "execution_count": 49,
     "metadata": {},
     "output_type": "execute_result"
    }
   ],
   "source": [
    "from sklearn.metrics import r2_score\n",
    "r2_score(ytest,ypred)"
   ]
  },
  {
   "cell_type": "markdown",
   "id": "d7ae26ae-9625-47df-abe9-4fe4fe389f04",
   "metadata": {},
   "source": [
    "## best train_test_split RANDOM STATE"
   ]
  },
  {
   "cell_type": "code",
   "execution_count": 50,
   "id": "aec50a65-dc10-4287-980a-734c16c8674d",
   "metadata": {},
   "outputs": [],
   "source": [
    "# #Finding the model with a random state of TrainTestSplit witth greatest score\n",
    "# #REMOVE AFTER USE\n",
    "# scores=[]\n",
    "# for i in range(1000):\n",
    "#     X_train,X_test,y_train,y_test=train_test_split(x,y,test_size=0.1,random_state=i)\n",
    "#     lr=LinearRegression()\n",
    "#     pipe=make_pipeline(column_tran,lr)\n",
    "#     pipe.fit(X_train,y_train)\n",
    "#     y_pred=pipe.predict(X_test)\n",
    "#     scores.append(r2_score(y_test,y_pred))\n",
    "\n",
    "# print('greatest score is given by i=',np.argmax(scores),'with score of ',scores[np.argmax(scores)])"
   ]
  },
  {
   "cell_type": "code",
   "execution_count": 51,
   "id": "4e125f7c-afdc-47d3-8d94-db62099fea93",
   "metadata": {},
   "outputs": [],
   "source": [
    "# X_train,X_test,y_train,y_test=train_test_split(x,y,test_size=0.1,random_state=np.argmax(scores))\n",
    "# lr=LinearRegression()\n",
    "# pipe=make_pipeline(column_tran,lr)\n",
    "# pipe.fit(X_train,y_train)\n",
    "# y_pred=pipe.predict(X_test)\n",
    "# r2_score(y_test,y_pred)"
   ]
  },
  {
   "cell_type": "markdown",
   "id": "3ca41322-bccd-487d-bd95-e3d4db163bdd",
   "metadata": {},
   "source": [
    "## Predictions"
   ]
  },
  {
   "cell_type": "code",
   "execution_count": 52,
   "id": "0d2be33d-e855-49a1-8f01-2fc321bb0459",
   "metadata": {},
   "outputs": [
    {
     "name": "stdout",
     "output_type": "stream",
     "text": [
      "[426542.70589308]\n"
     ]
    }
   ],
   "source": [
    "output=pipeline.predict(pd.DataFrame(columns=['name','company','year','kms_driven','fuel_type'],data=np.array(['Maruti Suzuki Swift','Maruti',2019,100,'Petrol']).reshape(1,5)))\n",
    "\n",
    "print(output)"
   ]
  },
  {
   "cell_type": "code",
   "execution_count": null,
   "id": "7a917da1-0d78-43fc-be3d-a3ad98465215",
   "metadata": {},
   "outputs": [],
   "source": []
  },
  {
   "cell_type": "code",
   "execution_count": null,
   "id": "a0cf9377",
   "metadata": {},
   "outputs": [],
   "source": []
  }
 ],
 "metadata": {
  "kernelspec": {
   "display_name": "Python 3 (ipykernel)",
   "language": "python",
   "name": "python3"
  },
  "language_info": {
   "codemirror_mode": {
    "name": "ipython",
    "version": 3
   },
   "file_extension": ".py",
   "mimetype": "text/x-python",
   "name": "python",
   "nbconvert_exporter": "python",
   "pygments_lexer": "ipython3",
   "version": "3.11.4"
  }
 },
 "nbformat": 4,
 "nbformat_minor": 5
}
